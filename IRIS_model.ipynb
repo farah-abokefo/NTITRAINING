{
  "cells": [
    {
      "cell_type": "code",
      "execution_count": 1,
      "metadata": {
        "id": "MDb-lS8mRy6B"
      },
      "outputs": [],
      "source": [
        "import numpy as np\n",
        "from sklearn.datasets import load_iris\n",
        "from sklearn.model_selection import train_test_split\n",
        "from sklearn.preprocessing import OneHotEncoder, StandardScaler\n",
        "import pandas as pd"
      ]
    },
    {
      "cell_type": "code",
      "execution_count": 2,
      "metadata": {
        "id": "8d8izoOoR1j8"
      },
      "outputs": [],
      "source": [
        "iris = load_iris()\n",
        "X = iris.data  #Sepal length, Sepal width, Petal length, Petal width\n",
        "y = iris.target.reshape(-1, 1)  #Labels as column vector"
      ]
    },
    {
      "cell_type": "code",
      "execution_count": 3,
      "metadata": {
        "colab": {
          "base_uri": "https://localhost:8080/"
        },
        "id": "DGG679KcR4Jp",
        "outputId": "f2155ae3-821e-4717-8037-588a165cff1d"
      },
      "outputs": [
        {
          "name": "stdout",
          "output_type": "stream",
          "text": [
            "[0 1 2]\n"
          ]
        }
      ],
      "source": [
        "print(np.unique(y))\n"
      ]
    },
    {
      "cell_type": "code",
      "execution_count": 4,
      "metadata": {
        "id": "CMXmQ8WCSB4c"
      },
      "outputs": [],
      "source": [
        "encoder = OneHotEncoder(sparse_output=False)\n",
        "y = encoder.fit_transform(y)"
      ]
    },
    {
      "cell_type": "code",
      "execution_count": 5,
      "metadata": {
        "id": "KjD-ZCtoSGb4"
      },
      "outputs": [],
      "source": [
        "scaler = StandardScaler()\n",
        "X = scaler.fit_transform(X)"
      ]
    },
    {
      "cell_type": "code",
      "execution_count": 6,
      "metadata": {
        "id": "yEnBYoBeSJbr"
      },
      "outputs": [],
      "source": [
        "X_train, X_test, y_train, y_test = train_test_split(X, y, test_size=0.2, random_state=42)"
      ]
    },
    {
      "cell_type": "code",
      "execution_count": 7,
      "metadata": {
        "id": "rG3N1U2ZSNeZ"
      },
      "outputs": [],
      "source": [
        "def sigmoid(z):\n",
        "    return 1 / (1 + np.exp(-z))  # σ(z) = 1 / (1 + e^(-z))"
      ]
    },
    {
      "cell_type": "code",
      "execution_count": 8,
      "metadata": {
        "id": "6o7d8Rc0SPzf"
      },
      "outputs": [],
      "source": [
        "def sigmoid_derivative(a):\n",
        "    return a * (1 - a)  # σ'(z) = σ(z) * (1 - σ(z)) its also y^"
      ]
    },
    {
      "cell_type": "code",
      "execution_count": 9,
      "metadata": {
        "id": "IVvikHjsSSjZ"
      },
      "outputs": [],
      "source": [
        "def softmax(z):\n",
        "    exp_z = np.exp(z - np.max(z, axis=1, keepdims=True))  # Numerical Stability trick\n",
        "    return exp_z / np.sum(exp_z, axis=1, keepdims=True)"
      ]
    },
    {
      "cell_type": "code",
      "execution_count": 10,
      "metadata": {
        "id": "LbppirPfSVzS"
      },
      "outputs": [],
      "source": [
        "def cross_entropy_loss(y_true, y_pred):\n",
        "    m = y_true.shape[0]  # number of samples\n",
        "    return -np.sum(y_true * np.log(y_pred + 1e-9)) / m  # L = -(1/m) Σ y_true * log(y_pred)"
      ]
    },
    {
      "cell_type": "code",
      "execution_count": 16,
      "metadata": {
        "id": "nimvZilESYbA"
      },
      "outputs": [],
      "source": [
        "def forward_pass(X, W1, b1, W2, b2):\n",
        "    # Hidden layer\n",
        "    Z1 = np.dot(X, W1) + b1           # Rule: Z1 = X · W1 + b1\n",
        "    A1 = sigmoid(Z1)                  # Rule: A1 = σ(Z1)\n",
        "\n",
        "    # Output layer\n",
        "    Z2 = np.dot(A1, W2) + b2           # Rule: Z2 = A1 · W2 + b2\n",
        "    A2 = softmax(Z2)                   # Rule: A2 = softmax(Z2)\n",
        "\n",
        "    return Z1, A1, Z2, A2"
      ]
    },
    {
      "cell_type": "code",
      "execution_count": 17,
      "metadata": {
        "id": "P7XogWTySiMs"
      },
      "outputs": [],
      "source": [
        "def backward_pass(X, y, Z1, A1, A2, W2):\n",
        "    m = X.shape[0]\n",
        "\n",
        "    # Output layer error\n",
        "    dZ2 = A2 - y                      # Rule: ∂L/∂Z2 = A2 - y\n",
        "    dW2 = (1/m) * np.dot(A1.T, dZ2)   # Rule: ∂L/∂W2 = (1/m) · A1^T · dZ2\n",
        "    db2 = (1/m) * np.sum(dZ2, axis=0, keepdims=True)  # Rule: ∂L/∂b2 = (1/m) Σ dZ2\n",
        "\n",
        "    # Hidden layer error\n",
        "    dA1 = np.dot(dZ2, W2.T)           # Rule: ∂L/∂A1 = dZ2 · W2^T\n",
        "    dZ1 = dA1 * sigmoid_derivative(A1)  # Rule: ∂L/∂Z1 = ∂L/∂A1 ⊙ σ'(Z1)\n",
        "    dW1 = (1/m) * np.dot(X.T, dZ1)    # Rule: ∂L/∂W1 = (1/m) · X^T · dZ1\n",
        "    db1 = (1/m) * np.sum(dZ1, axis=0, keepdims=True)  # Rule: ∂L/∂b1 = (1/m) Σ dZ1\n",
        "\n",
        "    return dW1, db1, dW2, db2"
      ]
    },
    {
      "cell_type": "code",
      "execution_count": 18,
      "metadata": {
        "id": "epRzUpikSqv2"
      },
      "outputs": [],
      "source": [
        "np.random.seed(42)\n",
        "input_size = X_train.shape[1]  # 4 features\n",
        "hidden_size = 8                # neurons in hidden layer\n",
        "output_size = y_train.shape[1] # 3 classes\n",
        "\n",
        "W1 = np.random.randn(input_size, hidden_size) * 0.01\n",
        "b1 = np.zeros((1, hidden_size))\n",
        "W2 = np.random.randn(hidden_size, output_size) * 0.01\n",
        "b2 = np.zeros((1, output_size))"
      ]
    },
    {
      "cell_type": "code",
      "execution_count": 19,
      "metadata": {
        "colab": {
          "base_uri": "https://localhost:8080/",
          "height": 297
        },
        "id": "OYjRO1ifStUr",
        "outputId": "fb5fbd4a-4c93-4f2c-998a-019d94d2dddf"
      },
      "outputs": [
        {
          "name": "stdout",
          "output_type": "stream",
          "text": [
            "Epoch 50, Loss: 1.0981\n",
            "Epoch 100, Loss: 1.0952\n",
            "Epoch 150, Loss: 1.0691\n",
            "Epoch 200, Loss: 0.9253\n",
            "Epoch 250, Loss: 0.6961\n",
            "Epoch 300, Loss: 0.5580\n",
            "Epoch 350, Loss: 0.4831\n",
            "Epoch 400, Loss: 0.4336\n",
            "Epoch 450, Loss: 0.3958\n",
            "Epoch 500, Loss: 0.3645\n"
          ]
        }
      ],
      "source": [
        "lr = 0.1\n",
        "epochs = 500\n",
        "\n",
        "for epoch in range(epochs):\n",
        "    # Forward pass\n",
        "    Z1, A1, Z2, A2 = forward_pass(X_train, W1, b1, W2, b2)\n",
        "\n",
        "    # Loss\n",
        "    loss = cross_entropy_loss(y_train, A2)\n",
        "\n",
        "    # Backward pass\n",
        "    dW1, db1, dW2, db2 = backward_pass(X_train, y_train, Z1, A1, A2, W2)\n",
        "\n",
        "    # Update parameters (Gradient Descent Rule)\n",
        "    W1 -= lr * dW1\n",
        "    b1 -= lr * db1\n",
        "    W2 -= lr * dW2\n",
        "    b2 -= lr * db2\n",
        "\n",
        "    if (epoch + 1) % 50 == 0:\n",
        "        print(f\"Epoch {epoch+1}, Loss: {loss:.4f}\")"
      ]
    },
    {
      "cell_type": "code",
      "execution_count": 20,
      "metadata": {
        "id": "qE2ImOKlSxDv"
      },
      "outputs": [
        {
          "name": "stdout",
          "output_type": "stream",
          "text": [
            "\n",
            "Test Accuracy: 93.33%\n"
          ]
        }
      ],
      "source": [
        "_, A1_test, _, A2_test = forward_pass(X_test, W1, b1, W2, b2)\n",
        "predictions = np.argmax(A2_test, axis=1)\n",
        "true_labels = np.argmax(y_test, axis=1)\n",
        "accuracy = np.mean(predictions == true_labels)\n",
        "\n",
        "print(f\"\\nTest Accuracy: {accuracy*100:.2f}%\")"
      ]
    },
    {
      "cell_type": "code",
      "execution_count": null,
      "metadata": {
        "id": "-3H92VAhTRi_"
      },
      "outputs": [],
      "source": []
    }
  ],
  "metadata": {
    "colab": {
      "provenance": []
    },
    "kernelspec": {
      "display_name": "Python 3",
      "name": "python3"
    },
    "language_info": {
      "codemirror_mode": {
        "name": "ipython",
        "version": 3
      },
      "file_extension": ".py",
      "mimetype": "text/x-python",
      "name": "python",
      "nbconvert_exporter": "python",
      "pygments_lexer": "ipython3",
      "version": "3.12.9"
    }
  },
  "nbformat": 4,
  "nbformat_minor": 0
}
